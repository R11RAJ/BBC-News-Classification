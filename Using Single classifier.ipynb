{
 "cells": [
  {
   "cell_type": "markdown",
   "metadata": {},
   "source": [
    "# Importing necessory Libraries"
   ]
  },
  {
   "cell_type": "code",
   "execution_count": 1,
   "metadata": {},
   "outputs": [],
   "source": [
    "from sklearn.datasets import load_files\n",
    "import sklearn.svm as svm\n",
    "from sklearn.feature_extraction.text import TfidfVectorizer\n",
    "import numpy as np\n",
    "from gensim.models import KeyedVectors\n",
    "from nltk.corpus import stopwords \n",
    "from sklearn.model_selection import train_test_split\n",
    "from sklearn.metrics import precision_recall_fscore_support\n",
    "from gensim.models import Word2Vec"
   ]
  },
  {
   "cell_type": "markdown",
   "metadata": {},
   "source": [
    "# Loading data"
   ]
  },
  {
   "cell_type": "code",
   "execution_count": 2,
   "metadata": {},
   "outputs": [],
   "source": [
    "articles=load_files('bbc',encoding='utf-8',decode_error='replace')\n",
    "X=articles.data\n",
    "y=articles.target"
   ]
  },
  {
   "cell_type": "markdown",
   "metadata": {},
   "source": [
    "# Observations"
   ]
  },
  {
   "cell_type": "markdown",
   "metadata": {},
   "source": [
    "1. Three approaches for document representation were used in this experiment i.e. TFIDF,Word2Vec and pre-computed word embeddings.\n",
    "2. Data are splited into Training and Test sets in the ratio 70:30.\n",
    "3. SVM classifier with linear kernel was used. \n",
    "4. Pre-computed word embeddings had the best scores followed by Word2vec and then TFIDF. "
   ]
  },
  {
   "cell_type": "markdown",
   "metadata": {},
   "source": [
    "# Train Test Split   70:30 Ratio"
   ]
  },
  {
   "cell_type": "code",
   "execution_count": 3,
   "metadata": {},
   "outputs": [],
   "source": [
    "X_train, X_test, y_train, y_test = train_test_split(X, y, test_size=0.30, random_state=42)"
   ]
  },
  {
   "cell_type": "markdown",
   "metadata": {},
   "source": [
    "# => Using TFIDF Representation"
   ]
  },
  {
   "cell_type": "code",
   "execution_count": 4,
   "metadata": {},
   "outputs": [],
   "source": [
    "my_stop_words = set(stopwords.words('english'))\n",
    "\n",
    "#documents were represented by vectors with 1000 features\n",
    "vectorizer = TfidfVectorizer(norm=None,stop_words=my_stop_words,max_features=1000, decode_error=\"ignore\")\n",
    "\n",
    "X_train_vectors = vectorizer.fit_transform(X_train)"
   ]
  },
  {
   "cell_type": "markdown",
   "metadata": {},
   "source": [
    "### Appyling SVM classifier"
   ]
  },
  {
   "cell_type": "code",
   "execution_count": 6,
   "metadata": {},
   "outputs": [],
   "source": [
    "svm1=svm.SVC(kernel='linear',C=1)\n",
    "svm1.fit(X_train_vectors,y_train)\n",
    "y_preds=svm1.predict(vectorizer.transform(X_test))"
   ]
  },
  {
   "cell_type": "markdown",
   "metadata": {},
   "source": [
    "### Micro and Macro Performance Metrics"
   ]
  },
  {
   "cell_type": "code",
   "execution_count": 7,
   "metadata": {},
   "outputs": [],
   "source": [
    "p1,r1,f1,pp=precision_recall_fscore_support(y_test,y_preds, average='macro')\n",
    "p2,r2,f2,pp=precision_recall_fscore_support(y_test, y_preds, average='micro')"
   ]
  },
  {
   "cell_type": "markdown",
   "metadata": {},
   "source": [
    "# =>Using Word2Vec Representation"
   ]
  },
  {
   "cell_type": "markdown",
   "metadata": {},
   "source": [
    "### Tokenisation"
   ]
  },
  {
   "cell_type": "code",
   "execution_count": 8,
   "metadata": {},
   "outputs": [],
   "source": [
    "X_train_tokens=[]\n",
    "for i in X_train:\n",
    "    X_train_tokens.append(i.split())\n",
    "X_test_tokens=[]\n",
    "for i in X_test:\n",
    "    X_test_tokens.append(i.split())"
   ]
  },
  {
   "cell_type": "markdown",
   "metadata": {},
   "source": [
    "### Model generation using Gensim Word2Vec"
   ]
  },
  {
   "cell_type": "code",
   "execution_count": 9,
   "metadata": {},
   "outputs": [
    {
     "name": "stdout",
     "output_type": "stream",
     "text": [
      "Done\n"
     ]
    }
   ],
   "source": [
    "model = Word2Vec(X_train_tokens,size=300,window=2,sg=1,min_count=1,alpha=0.15)\n",
    "# input: common_texts\n",
    "# size: dimension of vector\n",
    "# window: size of window\n",
    "# sg: 1 for skip gram, 0 for cbow\n",
    "# min_count: specify the minimum frequency of words that should be considered\n",
    "# alpha: learning rate\n",
    "\n",
    "#model was trained and word vectors had 300 features.\n",
    "model.train(X_train_tokens,total_examples=len(X_train_tokens),epochs=4)\n",
    "print('Done')"
   ]
  },
  {
   "cell_type": "markdown",
   "metadata": {},
   "source": [
    "### Generation of document vectors for train and test data"
   ]
  },
  {
   "cell_type": "code",
   "execution_count": 10,
   "metadata": {},
   "outputs": [
    {
     "name": "stderr",
     "output_type": "stream",
     "text": [
      "C:\\Users\\Raj\\Anaconda3\\lib\\site-packages\\ipykernel_launcher.py:6: DeprecationWarning: Call to deprecated `__getitem__` (Method will be removed in 4.0.0, use self.wv.__getitem__() instead).\n",
      "  \n",
      "C:\\Users\\Raj\\Anaconda3\\lib\\site-packages\\ipykernel_launcher.py:17: DeprecationWarning: Call to deprecated `__getitem__` (Method will be removed in 4.0.0, use self.wv.__getitem__() instead).\n"
     ]
    }
   ],
   "source": [
    "X_train_vectors1=[]\n",
    "for i in X_train_tokens:\n",
    "    t=[0 for x in range(300)]\n",
    "    for j in i:\n",
    "        try:\n",
    "            v=model[j]\n",
    "            t=np.add(t,v)\n",
    "        except:\n",
    "            pass\n",
    "    X_train_vectors1.append(np.divide(t,len(i)))\n",
    "\n",
    "X_test_vectors1=[]\n",
    "for i in X_test_tokens:\n",
    "    t=[0 for x in range(300)]\n",
    "    for j in i:\n",
    "        try:\n",
    "            v=model[j]\n",
    "            t=np.add(t,v)\n",
    "        except:\n",
    "            pass\n",
    "    X_test_vectors1.append(np.divide(t,len(i)))\n",
    "        "
   ]
  },
  {
   "cell_type": "markdown",
   "metadata": {},
   "source": [
    "### Applying SVM Classifier"
   ]
  },
  {
   "cell_type": "code",
   "execution_count": 13,
   "metadata": {},
   "outputs": [],
   "source": [
    "svm2=svm.SVC(kernel='linear',C=1)\n",
    "svm2.fit(X_train_vectors1,y_train)\n",
    "y_preds2=svm2.predict(X_test_vectors1)"
   ]
  },
  {
   "cell_type": "markdown",
   "metadata": {},
   "source": [
    "### Micro and Macro Performance Metrics"
   ]
  },
  {
   "cell_type": "code",
   "execution_count": 14,
   "metadata": {},
   "outputs": [],
   "source": [
    "p3,r3,f3,pp=precision_recall_fscore_support(y_test, y_preds2, average='macro')\n",
    "p4,r4,f4,pp=precision_recall_fscore_support(y_test, y_preds2, average='micro')"
   ]
  },
  {
   "cell_type": "markdown",
   "metadata": {},
   "source": [
    "# =>Using Pre-computed Word Embeddings"
   ]
  },
  {
   "cell_type": "code",
   "execution_count": 15,
   "metadata": {},
   "outputs": [],
   "source": [
    "#loading pre-computed word embeddings from google news data\n",
    "model2 = KeyedVectors.load_word2vec_format('../Assignment 7/GoogleNews-vectors-negative300.bin', binary=True)"
   ]
  },
  {
   "cell_type": "markdown",
   "metadata": {},
   "source": [
    "### Generation of document vectors for train and test data"
   ]
  },
  {
   "cell_type": "code",
   "execution_count": 16,
   "metadata": {},
   "outputs": [],
   "source": [
    "X_train_vectors2=[]\n",
    "for i in X_train_tokens:\n",
    "    t=[0 for x in range(300)]\n",
    "    for j in i:\n",
    "        try:\n",
    "            v=model2[j]\n",
    "            t=np.add(t,v)\n",
    "        except:\n",
    "            pass\n",
    "    X_train_vectors2.append(np.divide(t,len(i)))\n",
    "\n",
    "X_test_vectors2=[]\n",
    "for i in X_test_tokens:\n",
    "    t=[0 for x in range(300)]\n",
    "    for j in i:\n",
    "        try:\n",
    "            v=model2[j]\n",
    "            t=np.add(t,v)\n",
    "        except:\n",
    "            pass\n",
    "    X_test_vectors2.append(np.divide(t,len(i)))"
   ]
  },
  {
   "cell_type": "markdown",
   "metadata": {},
   "source": [
    "### Appyling SVM classifer"
   ]
  },
  {
   "cell_type": "code",
   "execution_count": 17,
   "metadata": {},
   "outputs": [],
   "source": [
    "svm3=svm.SVC(kernel='linear',C=1)\n",
    "svm3.fit(X_train_vectors2,y_train)\n",
    "y_preds3=svm3.predict(X_test_vectors2)"
   ]
  },
  {
   "cell_type": "markdown",
   "metadata": {},
   "source": [
    "### Micro and Macro Performance Metrics"
   ]
  },
  {
   "cell_type": "code",
   "execution_count": 18,
   "metadata": {},
   "outputs": [],
   "source": [
    "p5,r5,f5,pp=precision_recall_fscore_support(y_test, y_preds3, average='macro')\n",
    "p6,r6,f6,pp=precision_recall_fscore_support(y_test, y_preds3, average='micro')"
   ]
  },
  {
   "cell_type": "markdown",
   "metadata": {},
   "source": [
    "# Performance Comparison"
   ]
  },
  {
   "cell_type": "markdown",
   "metadata": {},
   "source": [
    "### Macro Metrics"
   ]
  },
  {
   "cell_type": "code",
   "execution_count": 20,
   "metadata": {},
   "outputs": [
    {
     "name": "stdout",
     "output_type": "stream",
     "text": [
      "for TFIDF\n",
      "Precision : 0.9607183743801228\n",
      "Recall : 0.9599051644700124\n",
      "F1 score : 0.9602894187113498 \n",
      "\n",
      "for Word2Vec\n",
      "Precision : 0.9521490788417697\n",
      "Recall : 0.9544808110235709\n",
      "F1 score : 0.9530940172673255 \n",
      "\n",
      "for pre-computed Word2Vec\n",
      "Precision : 0.9645029790997534\n",
      "Recall : 0.9632502256105699\n",
      "F1 score : 0.9635566688970523\n"
     ]
    }
   ],
   "source": [
    "print(\"for TFIDF\")\n",
    "print('Precision :',p1)\n",
    "print('Recall :',r1)\n",
    "print('F1 score :',f1,'\\n')\n",
    "\n",
    "print(\"for Word2Vec\")\n",
    "print('Precision :',p3)\n",
    "print('Recall :',r3)\n",
    "print('F1 score :',f3,'\\n')\n",
    "\n",
    "print(\"for pre-computed Word2Vec\")\n",
    "print('Precision :',p5)\n",
    "print('Recall :',r5)\n",
    "print('F1 score :',f5)\n"
   ]
  },
  {
   "cell_type": "markdown",
   "metadata": {},
   "source": [
    "### Micro Metrics"
   ]
  },
  {
   "cell_type": "code",
   "execution_count": 21,
   "metadata": {},
   "outputs": [
    {
     "name": "stdout",
     "output_type": "stream",
     "text": [
      "for TFIDF\n",
      "Precision : 0.9610778443113772\n",
      "Recall : 0.9610778443113772\n",
      "F1 score : 0.9610778443113772 \n",
      "\n",
      "for Word2Vec\n",
      "Precision : 0.9550898203592815\n",
      "Recall : 0.9550898203592815\n",
      "F1 score : 0.9550898203592815 \n",
      "\n",
      "for pre-computed Word2Vec\n",
      "Precision : 0.9655688622754491\n",
      "Recall : 0.9655688622754491\n",
      "F1 score : 0.9655688622754491\n"
     ]
    }
   ],
   "source": [
    "print(\"for TFIDF\")\n",
    "print('Precision :',p2)\n",
    "print('Recall :',r2)\n",
    "print('F1 score :',f2,'\\n')\n",
    "\n",
    "print(\"for Word2Vec\")\n",
    "print('Precision :',p4)\n",
    "print('Recall :',r4)\n",
    "print('F1 score :',f4,'\\n')\n",
    "\n",
    "print(\"for pre-computed Word2Vec\")\n",
    "print('Precision :',p6)\n",
    "print('Recall :',r6)\n",
    "print('F1 score :',f6)"
   ]
  }
 ],
 "metadata": {
  "kernelspec": {
   "display_name": "Python 3",
   "language": "python",
   "name": "python3"
  },
  "language_info": {
   "codemirror_mode": {
    "name": "ipython",
    "version": 3
   },
   "file_extension": ".py",
   "mimetype": "text/x-python",
   "name": "python",
   "nbconvert_exporter": "python",
   "pygments_lexer": "ipython3",
   "version": "3.7.4"
  }
 },
 "nbformat": 4,
 "nbformat_minor": 2
}
